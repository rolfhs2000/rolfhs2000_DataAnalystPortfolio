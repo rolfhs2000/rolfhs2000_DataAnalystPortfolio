{
 "cells": [
  {
   "cell_type": "code",
   "execution_count": 1,
   "id": "3957e8ff",
   "metadata": {},
   "outputs": [],
   "source": [
    "import pandas as pd\n",
    "import numpy as np\n",
    "\n",
    "#load file\n",
    "sales = pd.read_csv('sales.csv')\n",
    "prices = pd.read_csv('prices.csv')"
   ]
  },
  {
   "cell_type": "code",
   "execution_count": 2,
   "id": "29bf3173",
   "metadata": {},
   "outputs": [],
   "source": [
    "#Get date_update with updated_price\n",
    "def date_update (id, date_order):\n",
    "    new_date = prices['updated_at'][prices['product_id'] == id]\n",
    "    if date_order < new_date.min():\n",
    "       tempt_date = new_date.min()\n",
    "    else:\n",
    "       tempt_date = new_date[date_order > new_date].max()                            \n",
    "    return tempt_date\n",
    "\n",
    "#Get updated_price base on id & date_order\n",
    "def updated_price(id, date_order):\n",
    "    date = date_update(id, date_order)\n",
    "    if date_order < date:\n",
    "       tempt_price = prices['old_price'][(prices['updated_at'] == date) & (prices['product_id'] == id)].values[0]\n",
    "    else:\n",
    "       tempt_price = prices['new_price'][(prices['updated_at'] == date) & (prices['product_id'] == id)].values[0]                              \n",
    "    return tempt_price"
   ]
  },
  {
   "cell_type": "code",
   "execution_count": 3,
   "id": "6cfc300c",
   "metadata": {},
   "outputs": [],
   "source": [
    "#Find final_price corresponding each row and append to update_price array.\n",
    "final_price = []\n",
    "for i in np.arange(len(sales)):\n",
    "    tempt_price = updated_price(sales.iloc[i]['product_id'], sales.iloc[i]['ordered_at'])\n",
    "    final_price.append(tempt_price)"
   ]
  },
  {
   "cell_type": "code",
   "execution_count": 4,
   "id": "1809e25f",
   "metadata": {},
   "outputs": [],
   "source": [
    "#Append price & total_revenue to sales\n",
    "sales[\"price\"] = final_price\n",
    "sales[\"total_revenue\"] = sales['price'] * sales['quantity_ordered']\n",
    "\n",
    "#Groupby product_id with total_revenue:sum\n",
    "sales.groupby(['product_id']).total_revenue.agg('sum')\n",
    "\n",
    "#Export to Data_Wrangling.csv\n",
    "sales.to_csv(\"Data_Wrangling.csv\")"
   ]
  }
 ],
 "metadata": {
  "kernelspec": {
   "display_name": "Python 3 (ipykernel)",
   "language": "python",
   "name": "python3"
  },
  "language_info": {
   "codemirror_mode": {
    "name": "ipython",
    "version": 3
   },
   "file_extension": ".py",
   "mimetype": "text/x-python",
   "name": "python",
   "nbconvert_exporter": "python",
   "pygments_lexer": "ipython3",
   "version": "3.9.13"
  }
 },
 "nbformat": 4,
 "nbformat_minor": 5
}
